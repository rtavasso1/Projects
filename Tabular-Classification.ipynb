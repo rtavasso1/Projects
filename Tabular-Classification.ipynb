{
 "cells": [
  {
   "cell_type": "code",
   "execution_count": 2,
   "metadata": {},
   "outputs": [],
   "source": [
    "import numpy as np\n",
    "import pandas as pd\n",
    "from pandas_profiling import ProfileReport\n",
    "import xgboost as xgb\n",
    "from sklearn.preprocessing import OneHotEncoder\n",
    "from sklearn.model_selection import train_test_split\n",
    "from matplotlib import pyplot as plt\n",
    "from sklearn.impute import KNNImputer\n",
    "from sklearn.model_selection import GroupKFold\n",
    "from sklearn.metrics import average_precision_score, roc_auc_score\n",
    "from xgboost import XGBClassifier\n",
    "from xgboost import plot_importance\n",
    "import seaborn as sns\n",
    "from sklearn.linear_model import LogisticRegression\n",
    "from sklearn.preprocessing import KBinsDiscretizer\n",
    "from sklearn.preprocessing import StandardScaler\n",
    "from sklearn.pipeline import make_pipeline\n",
    "from sklearn.metrics import f1_score"
   ]
  },
  {
   "cell_type": "markdown",
   "metadata": {},
   "source": [
    "Let's take a look at the dataset."
   ]
  },
  {
   "cell_type": "code",
   "execution_count": 133,
   "metadata": {},
   "outputs": [
    {
     "data": {
      "text/html": [
       "<div>\n",
       "<style scoped>\n",
       "    .dataframe tbody tr th:only-of-type {\n",
       "        vertical-align: middle;\n",
       "    }\n",
       "\n",
       "    .dataframe tbody tr th {\n",
       "        vertical-align: top;\n",
       "    }\n",
       "\n",
       "    .dataframe thead th {\n",
       "        text-align: right;\n",
       "    }\n",
       "</style>\n",
       "<table border=\"1\" class=\"dataframe\">\n",
       "  <thead>\n",
       "    <tr style=\"text-align: right;\">\n",
       "      <th></th>\n",
       "      <th>id</th>\n",
       "      <th>product_code</th>\n",
       "      <th>loading</th>\n",
       "      <th>attribute_0</th>\n",
       "      <th>attribute_1</th>\n",
       "      <th>attribute_2</th>\n",
       "      <th>attribute_3</th>\n",
       "      <th>measurement_0</th>\n",
       "      <th>measurement_1</th>\n",
       "      <th>measurement_2</th>\n",
       "      <th>measurement_3</th>\n",
       "      <th>measurement_4</th>\n",
       "      <th>measurement_5</th>\n",
       "      <th>measurement_6</th>\n",
       "      <th>measurement_7</th>\n",
       "      <th>measurement_8</th>\n",
       "      <th>measurement_9</th>\n",
       "      <th>measurement_10</th>\n",
       "      <th>measurement_11</th>\n",
       "      <th>measurement_12</th>\n",
       "      <th>measurement_13</th>\n",
       "      <th>measurement_14</th>\n",
       "      <th>measurement_15</th>\n",
       "      <th>measurement_16</th>\n",
       "      <th>measurement_17</th>\n",
       "      <th>failure</th>\n",
       "    </tr>\n",
       "  </thead>\n",
       "  <tbody>\n",
       "    <tr>\n",
       "      <th>0</th>\n",
       "      <td>0</td>\n",
       "      <td>A</td>\n",
       "      <td>80.10</td>\n",
       "      <td>material_7</td>\n",
       "      <td>material_8</td>\n",
       "      <td>9</td>\n",
       "      <td>5</td>\n",
       "      <td>7</td>\n",
       "      <td>8</td>\n",
       "      <td>4</td>\n",
       "      <td>18.040</td>\n",
       "      <td>12.518</td>\n",
       "      <td>15.748</td>\n",
       "      <td>19.292</td>\n",
       "      <td>11.739</td>\n",
       "      <td>20.155</td>\n",
       "      <td>10.672</td>\n",
       "      <td>15.859</td>\n",
       "      <td>17.594</td>\n",
       "      <td>15.193</td>\n",
       "      <td>15.029</td>\n",
       "      <td>NaN</td>\n",
       "      <td>13.034</td>\n",
       "      <td>14.684</td>\n",
       "      <td>764.100</td>\n",
       "      <td>0</td>\n",
       "    </tr>\n",
       "    <tr>\n",
       "      <th>1</th>\n",
       "      <td>1</td>\n",
       "      <td>A</td>\n",
       "      <td>84.89</td>\n",
       "      <td>material_7</td>\n",
       "      <td>material_8</td>\n",
       "      <td>9</td>\n",
       "      <td>5</td>\n",
       "      <td>14</td>\n",
       "      <td>3</td>\n",
       "      <td>3</td>\n",
       "      <td>18.213</td>\n",
       "      <td>11.540</td>\n",
       "      <td>17.717</td>\n",
       "      <td>17.893</td>\n",
       "      <td>12.748</td>\n",
       "      <td>17.889</td>\n",
       "      <td>12.448</td>\n",
       "      <td>17.947</td>\n",
       "      <td>17.915</td>\n",
       "      <td>11.755</td>\n",
       "      <td>14.732</td>\n",
       "      <td>15.425</td>\n",
       "      <td>14.395</td>\n",
       "      <td>15.631</td>\n",
       "      <td>682.057</td>\n",
       "      <td>0</td>\n",
       "    </tr>\n",
       "    <tr>\n",
       "      <th>2</th>\n",
       "      <td>2</td>\n",
       "      <td>A</td>\n",
       "      <td>82.43</td>\n",
       "      <td>material_7</td>\n",
       "      <td>material_8</td>\n",
       "      <td>9</td>\n",
       "      <td>5</td>\n",
       "      <td>12</td>\n",
       "      <td>1</td>\n",
       "      <td>5</td>\n",
       "      <td>18.057</td>\n",
       "      <td>11.652</td>\n",
       "      <td>16.738</td>\n",
       "      <td>18.240</td>\n",
       "      <td>12.718</td>\n",
       "      <td>18.288</td>\n",
       "      <td>12.715</td>\n",
       "      <td>15.607</td>\n",
       "      <td>NaN</td>\n",
       "      <td>13.798</td>\n",
       "      <td>16.711</td>\n",
       "      <td>18.631</td>\n",
       "      <td>14.094</td>\n",
       "      <td>17.946</td>\n",
       "      <td>663.376</td>\n",
       "      <td>0</td>\n",
       "    </tr>\n",
       "    <tr>\n",
       "      <th>3</th>\n",
       "      <td>3</td>\n",
       "      <td>A</td>\n",
       "      <td>101.07</td>\n",
       "      <td>material_7</td>\n",
       "      <td>material_8</td>\n",
       "      <td>9</td>\n",
       "      <td>5</td>\n",
       "      <td>13</td>\n",
       "      <td>2</td>\n",
       "      <td>6</td>\n",
       "      <td>17.295</td>\n",
       "      <td>11.188</td>\n",
       "      <td>18.576</td>\n",
       "      <td>18.339</td>\n",
       "      <td>12.583</td>\n",
       "      <td>19.060</td>\n",
       "      <td>12.471</td>\n",
       "      <td>16.346</td>\n",
       "      <td>18.377</td>\n",
       "      <td>10.020</td>\n",
       "      <td>15.250</td>\n",
       "      <td>15.562</td>\n",
       "      <td>16.154</td>\n",
       "      <td>17.172</td>\n",
       "      <td>826.282</td>\n",
       "      <td>0</td>\n",
       "    </tr>\n",
       "    <tr>\n",
       "      <th>4</th>\n",
       "      <td>4</td>\n",
       "      <td>A</td>\n",
       "      <td>188.06</td>\n",
       "      <td>material_7</td>\n",
       "      <td>material_8</td>\n",
       "      <td>9</td>\n",
       "      <td>5</td>\n",
       "      <td>9</td>\n",
       "      <td>2</td>\n",
       "      <td>8</td>\n",
       "      <td>19.346</td>\n",
       "      <td>12.950</td>\n",
       "      <td>16.990</td>\n",
       "      <td>15.746</td>\n",
       "      <td>11.306</td>\n",
       "      <td>18.093</td>\n",
       "      <td>10.337</td>\n",
       "      <td>17.082</td>\n",
       "      <td>19.932</td>\n",
       "      <td>12.428</td>\n",
       "      <td>16.182</td>\n",
       "      <td>12.760</td>\n",
       "      <td>13.153</td>\n",
       "      <td>16.412</td>\n",
       "      <td>579.885</td>\n",
       "      <td>0</td>\n",
       "    </tr>\n",
       "  </tbody>\n",
       "</table>\n",
       "</div>"
      ],
      "text/plain": [
       "   id product_code  loading attribute_0 attribute_1  attribute_2  attribute_3  \\\n",
       "0   0            A    80.10  material_7  material_8            9            5   \n",
       "1   1            A    84.89  material_7  material_8            9            5   \n",
       "2   2            A    82.43  material_7  material_8            9            5   \n",
       "3   3            A   101.07  material_7  material_8            9            5   \n",
       "4   4            A   188.06  material_7  material_8            9            5   \n",
       "\n",
       "   measurement_0  measurement_1  measurement_2  measurement_3  measurement_4  \\\n",
       "0              7              8              4         18.040         12.518   \n",
       "1             14              3              3         18.213         11.540   \n",
       "2             12              1              5         18.057         11.652   \n",
       "3             13              2              6         17.295         11.188   \n",
       "4              9              2              8         19.346         12.950   \n",
       "\n",
       "   measurement_5  measurement_6  measurement_7  measurement_8  measurement_9  \\\n",
       "0         15.748         19.292         11.739         20.155         10.672   \n",
       "1         17.717         17.893         12.748         17.889         12.448   \n",
       "2         16.738         18.240         12.718         18.288         12.715   \n",
       "3         18.576         18.339         12.583         19.060         12.471   \n",
       "4         16.990         15.746         11.306         18.093         10.337   \n",
       "\n",
       "   measurement_10  measurement_11  measurement_12  measurement_13  \\\n",
       "0          15.859          17.594          15.193          15.029   \n",
       "1          17.947          17.915          11.755          14.732   \n",
       "2          15.607             NaN          13.798          16.711   \n",
       "3          16.346          18.377          10.020          15.250   \n",
       "4          17.082          19.932          12.428          16.182   \n",
       "\n",
       "   measurement_14  measurement_15  measurement_16  measurement_17  failure  \n",
       "0             NaN          13.034          14.684         764.100        0  \n",
       "1          15.425          14.395          15.631         682.057        0  \n",
       "2          18.631          14.094          17.946         663.376        0  \n",
       "3          15.562          16.154          17.172         826.282        0  \n",
       "4          12.760          13.153          16.412         579.885        0  "
      ]
     },
     "execution_count": 133,
     "metadata": {},
     "output_type": "execute_result"
    }
   ],
   "source": [
    "train_df = pd.read_csv('train.csv')\n",
    "test_df = pd.read_csv('test.csv')\n",
    "y_train = train_df['failure']\n",
    "\n",
    "train_df.head()"
   ]
  },
  {
   "cell_type": "markdown",
   "metadata": {},
   "source": [
    "The product code is of interest because we have no overlap between training and testing product codes. This is also true for each of the attribute features. We must take this into account when engineering features."
   ]
  },
  {
   "cell_type": "code",
   "execution_count": 216,
   "metadata": {},
   "outputs": [
    {
     "data": {
      "image/png": "[encoded data removed]",
      "text/plain": [
       "<Figure size 720x360 with 1 Axes>"
      ]
     },
     "metadata": {},
     "output_type": "display_data"
    },
    {
     "data": {
      "image/png": "[encoded data removed]",
      "text/plain": [
       "<Figure size 720x360 with 4 Axes>"
      ]
     },
     "metadata": {},
     "output_type": "display_data"
    }
   ],
   "source": [
    "#hide_input\n",
    "combo = pd.concat((train_df,test_df))\n",
    "type_ = ['Train'] *len(train_df) + ['Test'] * len(test_df)\n",
    "\n",
    "sns.set(rc={'figure.figsize':(10,5)})\n",
    "sns.countplot(data=combo, x='product_code',hue=type_)\n",
    "plt.show()\n",
    "\n",
    "fig, axs = plt.subplots(ncols=2,nrows=2)\n",
    "sns.countplot(data=combo, x='attribute_0',hue=type_, ax=axs[0,0])\n",
    "sns.countplot(data=combo, x='attribute_1',hue=type_, ax=axs[0,1])\n",
    "sns.countplot(data=combo, x='attribute_2',hue=type_, ax=axs[1,0])\n",
    "sns.countplot(data=combo, x='attribute_3',hue=type_, ax=axs[1,1])\n",
    "plt.show()"
   ]
  },
  {
   "cell_type": "markdown",
   "metadata": {},
   "source": [
    "We have a mix of categorical and numerical features (loading and all measurements being the numerical). Let's now take a look at the missing values within the training set. "
   ]
  },
  {
   "cell_type": "code",
   "execution_count": 102,
   "metadata": {},
   "outputs": [
    {
     "data": {
      "image/png": "[encoded data removed]",
      "text/plain": [
       "<Figure size 1800x360 with 1 Axes>"
      ]
     },
     "metadata": {},
     "output_type": "display_data"
    }
   ],
   "source": [
    "keys = []\n",
    "vals = []\n",
    "for col in train_df:\n",
    "    if train_df[col].isna().sum() > 0:\n",
    "        val = train_df[col].isna().sum()/len(train_df)*100\n",
    "        keys.append(col)\n",
    "        vals.append(val)\n",
    "\n",
    "sns.set(rc={'figure.figsize':(25,5)})\n",
    "ax = sns.barplot(x=keys,y=vals)\n",
    "ax.set_ylabel('Percent missing')\n",
    "plt.show()"
   ]
  },
  {
   "cell_type": "markdown",
   "metadata": {},
   "source": [
    "None of the categorical features are missing which is great. We do see a trend in more missing values for the ordinally higher measurements. Before digging deeper, we can do a z-test to determine the p-value for features with missing values having a significantly different failure rate than the mean failure rate. Credit to @AmbrosM for the idea"
   ]
  },
  {
   "cell_type": "code",
   "execution_count": 108,
   "metadata": {},
   "outputs": [
    {
     "data": {
      "image/png": "[encoded data removed]",
      "text/plain": [
       "<Figure size 1800x360 with 1 Axes>"
      ]
     },
     "metadata": {},
     "output_type": "display_data"
    }
   ],
   "source": [
    "keys = []\n",
    "vals = []\n",
    "xbar = np.average(y_train) # Average failure rate for all samples\n",
    "\n",
    "for col in train_df:\n",
    "    if train_df[col].isna().sum() > 0:\n",
    "        mask = (train_df[col].isna()) & (y_train.values ==1) \n",
    "        fail = mask.sum()\n",
    "        total = train_df[col].isna().sum()\n",
    "        keys.append(col)\n",
    "        vals.append(np.abs((fail - xbar*total) / np.sqrt(total*xbar*(1-xbar))))\n",
    "ax = sns.barplot(keys,vals)\n",
    "ax.set_ylabel('| z |')\n",
    "plt.show()"
   ]
  },
  {
   "cell_type": "markdown",
   "metadata": {},
   "source": [
    "In the plot above, measurement_3 and measurement_5 are the only features with z scores greater than 1.96 meaning at an alpha of 0.05, our observations are significant. We can use this information to create new features that take on a 0 or 1 value depending on whether the corresponding measurement is missing."
   ]
  },
  {
   "cell_type": "markdown",
   "metadata": {},
   "source": [
    "Let's also look at how the loading feature is distributed across failure."
   ]
  },
  {
   "cell_type": "code",
   "execution_count": 148,
   "metadata": {},
   "outputs": [
    {
     "data": {
      "image/png": "[encoded data removed]",
      "text/plain": [
       "<Figure size 405.725x360 with 1 Axes>"
      ]
     },
     "metadata": {},
     "output_type": "display_data"
    }
   ],
   "source": [
    "#collapse\n",
    "sns.set(rc={'figure.figsize':(10,50)})\n",
    "sns.displot(train_df,x='loading',hue='failure', kind='kde', common_norm=False)\n",
    "plt.show()"
   ]
  },
  {
   "cell_type": "markdown",
   "metadata": {},
   "source": [
    "It becomes obvious that items who failed have on average a higher loading value than those that do not fail. We can encode this as a feature by taking on a boolean value if the loading is closer to the mean loading value for failing items or passing items."
   ]
  },
  {
   "cell_type": "code",
   "execution_count": 219,
   "metadata": {},
   "outputs": [
    {
     "name": "stdout",
     "output_type": "stream",
     "text": [
      "Loading Mean for Passing: 125.21\n",
      "Loading Mean for Failure: 137.51\n"
     ]
    }
   ],
   "source": [
    "passingAvg = train_df[y_train==0]['loading'].mean()\n",
    "failingAvg = train_df[y_train==1]['loading'].mean()\n",
    "print('Loading Mean for Passing: ' + str(np.round(passingAvg,2)))\n",
    "print('Loading Mean for Failure: ' + str(np.round(failingAvg,2)))"
   ]
  },
  {
   "cell_type": "markdown",
   "metadata": {},
   "source": [
    "Before beginning training, we should first ask ourselves what is the best way to evaluate our model. Is accuracy enough or can we use a better metric such as AUROC/AUPRC? If so, which to choose? Let's first evaulate the distribution of classes"
   ]
  },
  {
   "cell_type": "code",
   "execution_count": 117,
   "metadata": {},
   "outputs": [
    {
     "data": {
      "image/png": "[encoded data removed]",
      "text/plain": [
       "<Figure size 360x360 with 1 Axes>"
      ]
     },
     "metadata": {},
     "output_type": "display_data"
    }
   ],
   "source": [
    "percentFailTrain = sum(y_train)/len(y_train)*100\n",
    "keys = ['Failed (1)','Passed (0)']\n",
    "vals = [percentFailTrain,100-percentFailTrain]\n",
    "\n",
    "sns.set(rc={'figure.figsize':(5,5)})\n",
    "ax = sns.barplot(keys[::-1],vals[::-1])\n",
    "ax.set_ylabel('Percent of Training Set')\n",
    "plt.show()"
   ]
  },
  {
   "cell_type": "markdown",
   "metadata": {},
   "source": [
    "We can see that there is approximately a 4:1 distribution of classes in the dataset, which is unbalanced enough to warrant the use of the PR curve, since the AUROC is biased when used for unbalanced datasets. Let's first process our raw data by imputing missing values, adding new features, and encoding categorical variables."
   ]
  },
  {
   "cell_type": "code",
   "execution_count": 116,
   "metadata": {},
   "outputs": [],
   "source": [
    "def train(train,val,y_train,y_val,param,num_round,doVal=True,sklearn=False):\n",
    "    dtrain = xgb.DMatrix(train, y_train, enable_categorical=True)      \n",
    "\n",
    "    if sklearn:\n",
    "        bst = make_pipeline(StandardScaler(), LogisticRegression())\n",
    "        bst = bst.fit(train,y_train)\n",
    "    else:\n",
    "        bst = xgb.train(param, dtrain, num_round)\n",
    "    \n",
    "    if doVal:\n",
    "        if sklearn:\n",
    "            val_preds = bst.predict(val)\n",
    "        else:\n",
    "            dval = xgb.DMatrix(val,y_val, enable_categorical=True)\n",
    "            val_preds = bst.predict(dval)\n",
    "        val_preds = val_preds >= 0.5\n",
    "        accuracy = np.round(sum(val_preds==y_val)/len(val_preds),4)*100\n",
    "        return bst, accuracy\n",
    "    else:\n",
    "        return bst"
   ]
  },
  {
   "cell_type": "code",
   "execution_count": 238,
   "metadata": {},
   "outputs": [],
   "source": [
    "def predict(test,bst,to_file=False,ids=None,sklearn=True,threshold=0.5):\n",
    "    if sklearn:\n",
    "        preds = bst.predict(test)\n",
    "    else:\n",
    "        dtest = xgb.DMatrix(test, enable_categorical=True)\n",
    "        preds = bst.predict(dtest)\n",
    "\n",
    "    \n",
    "    if to_file:\n",
    "        p = preds >= threshold\n",
    "        sub = pd.DataFrame({'id':ids, 'failure':p.astype(int)})\n",
    "        sub.to_csv('submission.csv', index=False)  \n",
    "    return preds"
   ]
  },
  {
   "cell_type": "code",
   "execution_count": 278,
   "metadata": {},
   "outputs": [],
   "source": [
    "train_df = pd.read_csv('train.csv') # 26570 rows\n",
    "test_df = pd.read_csv('test.csv') # 20775 rows\n",
    "y = train_df.pop('failure')\n",
    "\n",
    "#Combine train and test for preprocess\n",
    "combined = pd.concat((train_df,test_df),axis=0)\n",
    "\n",
    "# Add features for missing values\n",
    "combined['m3'] = combined['measurement_3'].isna()\n",
    "combined['m5'] = combined['measurement_5'].isna()\n",
    "\n",
    "# Imput missing values with mean of train_df\n",
    "features = [f for f in train_df.columns if f == 'loading' or f.startswith('measurement')]\n",
    "for col in features:\n",
    "    avg = train_df[col].mean() # get the mean from just the training data to avoid leakage\n",
    "    combined[col] = combined[col].fillna(avg)\n",
    "\n",
    "# Engineer features\n",
    "combined['area'] = combined['attribute_2']*combined['attribute_3']\n",
    "combined.pop('attribute_2')\n",
    "combined.pop('attribute_3')\n",
    "materialCombinations = np.zeros((len(combined),4)) # create bool columns for material present in each item\n",
    "for attr in ['attribute_0','attribute_1']:\n",
    "    for i in range(len(combined)):\n",
    "        mat = combined[attr].iloc[i]\n",
    "        if mat == 'material_5':\n",
    "            materialCombinations[i,0] = 1\n",
    "        elif mat =='material_6':\n",
    "            materialCombinations[i,1] = 1\n",
    "        elif mat == 'material_7':\n",
    "            materialCombinations[i,2] = 1\n",
    "        elif mat == 'material_8':\n",
    "            materialCombinations[i,3] = 1\n",
    "        else:\n",
    "            pass\n",
    "combined.pop('attribute_0')\n",
    "combined.pop('attribute_1')\n",
    "combined['mat5'] = materialCombinations[:,0].tolist()\n",
    "combined['mat6'] = materialCombinations[:,1].tolist()\n",
    "combined['mat7'] = materialCombinations[:,2].tolist()\n",
    "combined['mat8'] = materialCombinations[:,3].tolist()\n",
    "\n",
    "# Add column for if loading is less than respective to failure\n",
    "avg = np.mean([passingAvg,failingAvg])\n",
    "combined['pomAvg'] = combined['loading'] >= avg\n",
    "\n",
    "# Split back\n",
    "train_df = combined.iloc[:26570]\n",
    "test_df = combined.iloc[26570:]\n",
    "\n",
    "# Bin numerical cols\n",
    "est = KBinsDiscretizer(n_bins=8, encode='ordinal', strategy='uniform')\n",
    "features = [f for f in train_df if f.startswith('measurement') and f not in ['measurement_17']]\n",
    "est.fit(train_df[features])\n",
    "train_df[features] = est.transform(train_df[features])\n",
    "test_df[features] = est.transform(test_df[features])\n",
    "\n",
    "\n",
    "# Remove id column since it does not need to go in the model\n",
    "train_df.pop('id')\n",
    "ids = test_df.pop('id')\n",
    "\n",
    "# Remove unimportant columns\n",
    "features = [f for f in train_df if f.startswith('attribute') or f in ['measurement_' + str(i) for i in range(17)]]\n",
    "for f in features:\n",
    "    train_df.pop(f)\n",
    "    test_df.pop(f)"
   ]
  },
  {
   "cell_type": "markdown",
   "metadata": {},
   "source": [
    "Now that we have processed our data, we can train a model, tracking statistics to tell us our model's ability. Importantly, we must set up a validation split of our training data to accurately gauge our model's performance. Another note is that our model must account for the imbalance in the dataset or it will be biased towards predicting the dominant value in the dataset. We can sample our positive classes more than our negative classes to balance this out. Another alternative is to adjust the threshold that we make the positive/negative discrimination at."
   ]
  },
  {
   "cell_type": "code",
   "execution_count": 367,
   "metadata": {},
   "outputs": [
    {
     "name": "stdout",
     "output_type": "stream",
     "text": [
      "Fold 0: Accuracy is 55.32. AUPRC is 0.26701863220704725. AUROC is 0.5810596223556782. F1 is 0.3497047385856258\n",
      "Fold 1: Accuracy is 53.080000000000005. AUPRC is 0.2541565756241752. AUROC is 0.5724197961555418. F1 is 0.34347826086956523\n",
      "Fold 2: Accuracy is 48.59. AUPRC is 0.2447654900636433. AUROC is 0.575729072507821. F1 is 0.33428662217985383\n",
      "Fold 3: Accuracy is 50.67. AUPRC is 0.2721317459687122. AUROC is 0.5880387814748201. F1 is 0.357500403681576\n",
      "Fold 4: Accuracy is 52.449999999999996. AUPRC is 0.2872029455067862. AUROC is 0.5852282118977086. F1 is 0.3705007198848184\n",
      "\n",
      "\n",
      "Average Accuracy: 52.022. Average AUROC: 0.58. Average AUPRC: 0.265. Average F1: 0.351\n"
     ]
    }
   ],
   "source": [
    "avg_acc = []\n",
    "avg_auroc = []\n",
    "avg_auprc = []\n",
    "avg_f1 = []\n",
    "\n",
    "param = {'max_depth':6, 'eta':0.15, 'objective':'binary:logistic','eval_metric':'aucpr','gamma':10,'scale_pos_weight':0.8/0.2}\n",
    "num_round = 5\n",
    "\n",
    "features = [f for f in train_df.columns if f != 'product_code']\n",
    "\n",
    "kf = GroupKFold(n_splits=5) # must be 5 because of the 5 product codes\n",
    "for fold, (idx_tr, idx_va) in enumerate(kf.split(train_df, y, train_df.product_code)):\n",
    "    X_train, y_train = train_df.iloc[idx_tr], y[idx_tr]\n",
    "    X_val, y_val = train_df.iloc[idx_va], y[idx_va]\n",
    "    bst, val_acc = train(X_train[features],X_val[features],y_train,y_val,param,num_round,sklearn=False)\n",
    "\n",
    "    y_pred = predict(X_val[features],bst,to_file=False,sklearn=False)\n",
    "    auprc = average_precision_score(y_val, y_pred)\n",
    "    auroc = roc_auc_score(y_val, y_pred)\n",
    "    f1 = f1_score(y_val,y_pred>=0.3412498)\n",
    "\n",
    "    avg_acc.append(val_acc)\n",
    "    avg_auroc.append(auroc)\n",
    "    avg_auprc.append(auprc)\n",
    "    avg_f1.append(f1)\n",
    "\n",
    "    print('Fold ' + str(fold) + ': Accuracy is ' + str(val_acc) + '. AUPRC is ' + str(auprc) + '. AUROC is ' + str(auroc) + '. F1 is ' + str(f1))\n",
    "print('\\n')\n",
    "print('Average Accuracy: ' + str(np.round(np.mean(avg_acc),3)) + '. Average AUROC: ' + str(np.round(np.mean(avg_auroc),3)) + '. Average AUPRC: ' + str(np.round(np.mean(avg_auprc),3)) + '. Average F1: ' + str(np.round(np.mean(avg_f1),3)))  "
   ]
  },
  {
   "cell_type": "markdown",
   "metadata": {},
   "source": [
    "I tuned the hyperparameters by maximizing the AUPRC and F1 score averages for each fold. Now, we can peek under the hood of our XGBoost model and see what features were most important."
   ]
  },
  {
   "cell_type": "code",
   "execution_count": 368,
   "metadata": {},
   "outputs": [
    {
     "data": {
      "image/png": "[encoded data removed]",
      "text/plain": [
       "<Figure size 720x360 with 1 Axes>"
      ]
     },
     "metadata": {},
     "output_type": "display_data"
    }
   ],
   "source": [
    "plot_importance(bst)\n",
    "plt.show()"
   ]
  },
  {
   "cell_type": "markdown",
   "metadata": {},
   "source": [
    "Two features seem to dominate the model, which is not unreasonable. Our missing values features are less important than I'd hoped, and our encoded features of what materials we are using are useless it turns out. None the less, we've added useful features to help our model predict better."
   ]
  },
  {
   "cell_type": "markdown",
   "metadata": {},
   "source": [
    "Once we have a model that we are happy with, let's retrain on the entirety of our training dataset and make predictions on the test set. Here, we disregard the validation datasets."
   ]
  },
  {
   "cell_type": "code",
   "execution_count": 364,
   "metadata": {},
   "outputs": [],
   "source": [
    "bst = train(train_df[features],[],y,[],param,num_round,doVal=False)"
   ]
  },
  {
   "cell_type": "code",
   "execution_count": 365,
   "metadata": {},
   "outputs": [],
   "source": [
    "features = [f for f in test_df.columns if f != 'product_code']\n",
    "preds = predict(test_df[features],bst,to_file=True,ids=ids,sklearn=False,threshold=0.3412498)"
   ]
  },
  {
   "cell_type": "markdown",
   "metadata": {},
   "source": [
    "We now save our predictions to a CSV for evaluation."
   ]
  },
  {
   "cell_type": "code",
   "execution_count": 366,
   "metadata": {},
   "outputs": [],
   "source": [
    "sub = pd.DataFrame({'id':ids, 'failure':preds})\n",
    "sub.to_csv('submission.csv', index=False) "
   ]
  }
 ],
 "metadata": {
  "kernelspec": {
   "display_name": "Python 3.9.12 ('weiner')",
   "language": "python",
   "name": "python3"
  },
  "language_info": {
   "codemirror_mode": {
    "name": "ipython",
    "version": 3
   },
   "file_extension": ".py",
   "mimetype": "text/x-python",
   "name": "python",
   "nbconvert_exporter": "python",
   "pygments_lexer": "ipython3",
   "version": "3.9.12"
  },
  "orig_nbformat": 4,
  "vscode": {
   "interpreter": {
    "hash": "d598616444d5900452a95bbb1a5944206b0527a5240a5ded3184143f27b17fd4"
   }
  }
 },
 "nbformat": 4,
 "nbformat_minor": 2
}
